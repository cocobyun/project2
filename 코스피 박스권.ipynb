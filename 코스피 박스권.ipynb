{
 "cells": [
  {
   "cell_type": "code",
   "execution_count": 1,
   "metadata": {},
   "outputs": [],
   "source": [
    "import pandas as pd\n",
    "import numpy as np\n",
    "import matplotlib.pylab as plt"
   ]
  },
  {
   "cell_type": "code",
   "execution_count": 2,
   "metadata": {},
   "outputs": [],
   "source": [
    "price_df = pd.read_csv('kospi.csv')"
   ]
  },
  {
   "cell_type": "code",
   "execution_count": 3,
   "metadata": {},
   "outputs": [
    {
     "data": {
      "text/html": [
       "<div>\n",
       "<style scoped>\n",
       "    .dataframe tbody tr th:only-of-type {\n",
       "        vertical-align: middle;\n",
       "    }\n",
       "\n",
       "    .dataframe tbody tr th {\n",
       "        vertical-align: top;\n",
       "    }\n",
       "\n",
       "    .dataframe thead th {\n",
       "        text-align: right;\n",
       "    }\n",
       "</style>\n",
       "<table border=\"1\" class=\"dataframe\">\n",
       "  <thead>\n",
       "    <tr style=\"text-align: right;\">\n",
       "      <th></th>\n",
       "      <th>date</th>\n",
       "      <th>price</th>\n",
       "    </tr>\n",
       "  </thead>\n",
       "  <tbody>\n",
       "    <tr>\n",
       "      <th>0</th>\n",
       "      <td>2005-04-26</td>\n",
       "      <td>944.46</td>\n",
       "    </tr>\n",
       "    <tr>\n",
       "      <th>1</th>\n",
       "      <td>2005-04-27</td>\n",
       "      <td>930.16</td>\n",
       "    </tr>\n",
       "    <tr>\n",
       "      <th>2</th>\n",
       "      <td>2005-04-28</td>\n",
       "      <td>917.73</td>\n",
       "    </tr>\n",
       "    <tr>\n",
       "      <th>3</th>\n",
       "      <td>2005-04-29</td>\n",
       "      <td>911.30</td>\n",
       "    </tr>\n",
       "    <tr>\n",
       "      <th>4</th>\n",
       "      <td>2005-05-02</td>\n",
       "      <td>918.42</td>\n",
       "    </tr>\n",
       "  </tbody>\n",
       "</table>\n",
       "</div>"
      ],
      "text/plain": [
       "         date   price\n",
       "0  2005-04-26  944.46\n",
       "1  2005-04-27  930.16\n",
       "2  2005-04-28  917.73\n",
       "3  2005-04-29  911.30\n",
       "4  2005-05-02  918.42"
      ]
     },
     "execution_count": 3,
     "metadata": {},
     "output_type": "execute_result"
    }
   ],
   "source": [
    "price_df.head()"
   ]
  },
  {
   "cell_type": "code",
   "execution_count": 4,
   "metadata": {},
   "outputs": [
    {
     "data": {
      "text/html": [
       "<div>\n",
       "<style scoped>\n",
       "    .dataframe tbody tr th:only-of-type {\n",
       "        vertical-align: middle;\n",
       "    }\n",
       "\n",
       "    .dataframe tbody tr th {\n",
       "        vertical-align: top;\n",
       "    }\n",
       "\n",
       "    .dataframe thead th {\n",
       "        text-align: right;\n",
       "    }\n",
       "</style>\n",
       "<table border=\"1\" class=\"dataframe\">\n",
       "  <thead>\n",
       "    <tr style=\"text-align: right;\">\n",
       "      <th></th>\n",
       "      <th>price</th>\n",
       "    </tr>\n",
       "  </thead>\n",
       "  <tbody>\n",
       "    <tr>\n",
       "      <th>count</th>\n",
       "      <td>4800.000000</td>\n",
       "    </tr>\n",
       "    <tr>\n",
       "      <th>mean</th>\n",
       "      <td>2030.227556</td>\n",
       "    </tr>\n",
       "    <tr>\n",
       "      <th>std</th>\n",
       "      <td>476.189168</td>\n",
       "    </tr>\n",
       "    <tr>\n",
       "      <th>min</th>\n",
       "      <td>911.300000</td>\n",
       "    </tr>\n",
       "    <tr>\n",
       "      <th>25%</th>\n",
       "      <td>1775.250000</td>\n",
       "    </tr>\n",
       "    <tr>\n",
       "      <th>50%</th>\n",
       "      <td>2002.315000</td>\n",
       "    </tr>\n",
       "    <tr>\n",
       "      <th>75%</th>\n",
       "      <td>2343.167500</td>\n",
       "    </tr>\n",
       "    <tr>\n",
       "      <th>max</th>\n",
       "      <td>3305.210000</td>\n",
       "    </tr>\n",
       "  </tbody>\n",
       "</table>\n",
       "</div>"
      ],
      "text/plain": [
       "             price\n",
       "count  4800.000000\n",
       "mean   2030.227556\n",
       "std     476.189168\n",
       "min     911.300000\n",
       "25%    1775.250000\n",
       "50%    2002.315000\n",
       "75%    2343.167500\n",
       "max    3305.210000"
      ]
     },
     "execution_count": 4,
     "metadata": {},
     "output_type": "execute_result"
    }
   ],
   "source": [
    "price_df.describe()"
   ]
  },
  {
   "cell_type": "code",
   "execution_count": 5,
   "metadata": {},
   "outputs": [],
   "source": [
    "price_df.set_index(['date'],inplace=True)"
   ]
  },
  {
   "cell_type": "code",
   "execution_count": 6,
   "metadata": {},
   "outputs": [],
   "source": [
    "n = 20\n",
    "sigma = 2"
   ]
  },
  {
   "cell_type": "code",
   "execution_count": 7,
   "metadata": {},
   "outputs": [],
   "source": [
    "def bollinger_band(price_df, n, sigma):\n",
    "    bb = price_df.copy()\n",
    "    bb['center'] = price_df['price'].rolling(n).mean() #중앙 이동평균선\n",
    "    bb['ub'] = bb['center'] + sigma * price_df['price'].rolling(n).std() # 상단 밴드\n",
    "    bb['lb'] = bb['center'] - sigma * price_df['price'].rolling(n).std() # 하단 밴드\n",
    "    return bb"
   ]
  },
  {
   "cell_type": "code",
   "execution_count": 8,
   "metadata": {},
   "outputs": [],
   "source": [
    "bollinger = bollinger_band(price_df, n, sigma)"
   ]
  },
  {
   "cell_type": "code",
   "execution_count": 10,
   "metadata": {},
   "outputs": [],
   "source": [
    "base_date = '2006-01-01'"
   ]
  },
  {
   "cell_type": "code",
   "execution_count": 11,
   "metadata": {},
   "outputs": [
    {
     "data": {
      "text/html": [
       "<div>\n",
       "<style scoped>\n",
       "    .dataframe tbody tr th:only-of-type {\n",
       "        vertical-align: middle;\n",
       "    }\n",
       "\n",
       "    .dataframe tbody tr th {\n",
       "        vertical-align: top;\n",
       "    }\n",
       "\n",
       "    .dataframe thead th {\n",
       "        text-align: right;\n",
       "    }\n",
       "</style>\n",
       "<table border=\"1\" class=\"dataframe\">\n",
       "  <thead>\n",
       "    <tr style=\"text-align: right;\">\n",
       "      <th></th>\n",
       "      <th>price</th>\n",
       "      <th>center</th>\n",
       "      <th>ub</th>\n",
       "      <th>lb</th>\n",
       "    </tr>\n",
       "    <tr>\n",
       "      <th>date</th>\n",
       "      <th></th>\n",
       "      <th></th>\n",
       "      <th></th>\n",
       "      <th></th>\n",
       "    </tr>\n",
       "  </thead>\n",
       "  <tbody>\n",
       "    <tr>\n",
       "      <th>2006-01-02</th>\n",
       "      <td>1389.27</td>\n",
       "      <td>1344.4080</td>\n",
       "      <td>1388.877462</td>\n",
       "      <td>1299.938538</td>\n",
       "    </tr>\n",
       "    <tr>\n",
       "      <th>2006-01-03</th>\n",
       "      <td>1394.87</td>\n",
       "      <td>1348.3940</td>\n",
       "      <td>1396.001830</td>\n",
       "      <td>1300.786170</td>\n",
       "    </tr>\n",
       "    <tr>\n",
       "      <th>2006-01-04</th>\n",
       "      <td>1402.11</td>\n",
       "      <td>1352.4465</td>\n",
       "      <td>1403.900531</td>\n",
       "      <td>1300.992469</td>\n",
       "    </tr>\n",
       "    <tr>\n",
       "      <th>2006-01-05</th>\n",
       "      <td>1395.51</td>\n",
       "      <td>1355.9845</td>\n",
       "      <td>1409.123300</td>\n",
       "      <td>1302.845700</td>\n",
       "    </tr>\n",
       "    <tr>\n",
       "      <th>2006-01-06</th>\n",
       "      <td>1412.78</td>\n",
       "      <td>1360.4135</td>\n",
       "      <td>1417.048770</td>\n",
       "      <td>1303.778230</td>\n",
       "    </tr>\n",
       "  </tbody>\n",
       "</table>\n",
       "</div>"
      ],
      "text/plain": [
       "              price     center           ub           lb\n",
       "date                                                    \n",
       "2006-01-02  1389.27  1344.4080  1388.877462  1299.938538\n",
       "2006-01-03  1394.87  1348.3940  1396.001830  1300.786170\n",
       "2006-01-04  1402.11  1352.4465  1403.900531  1300.992469\n",
       "2006-01-05  1395.51  1355.9845  1409.123300  1302.845700\n",
       "2006-01-06  1412.78  1360.4135  1417.048770  1303.778230"
      ]
     },
     "execution_count": 11,
     "metadata": {},
     "output_type": "execute_result"
    }
   ],
   "source": [
    "sample = bollinger.loc[base_date:]\n",
    "sample.head()"
   ]
  },
  {
   "cell_type": "code",
   "execution_count": 12,
   "metadata": {},
   "outputs": [],
   "source": [
    "def create_trade_book(sample):\n",
    "    book = sample[['price']].copy()\n",
    "    book['trade'] = ''\n",
    "    return (book)    "
   ]
  },
  {
   "cell_type": "code",
   "execution_count": 13,
   "metadata": {},
   "outputs": [],
   "source": [
    "book = create_trade_book(sample)"
   ]
  },
  {
   "cell_type": "code",
   "execution_count": 15,
   "metadata": {},
   "outputs": [],
   "source": [
    "def tradings(sample, book):\n",
    "    for i in sample.index:\n",
    "        if sample.loc[i, 'price'] > sample.loc[i, 'ub']: # 상단밴드 이탈시 동작 안함\n",
    "            book.loc[i, 'trade'] = ''\n",
    "        elif sample.loc[i, 'lb'] > sample.loc[i, 'price']: # 하반밴드 이탈시 매수\n",
    "            if book.shift(1).loc[i, 'trade'] == 'buy':    # 이미 매수상태라면\n",
    "                book.loc[i, 'trade'] = 'buy'     # 매수상태 유지\n",
    "            else:\n",
    "                book.loc[i, 'trade'] = 'buy'    \n",
    "        elif sample.loc[i, 'ub'] >= sample.loc[i, 'price'] and sample.loc[i, 'price'] >= sample.loc[i, 'lb']: # 볼린저 밴드 안에 있을 시\n",
    "            if book.shift(1).loc[i, 'trade'] == 'buy':\n",
    "                book.loc[i, 'trade'] = 'buy'  # 매수상태 유지\n",
    "            else:\n",
    "                book.loc[i, 'trade'] = '' # 동작 안함\n",
    "    return (book) "
   ]
  },
  {
   "cell_type": "code",
   "execution_count": 16,
   "metadata": {},
   "outputs": [],
   "source": [
    "book = tradings(sample,book)"
   ]
  },
  {
   "cell_type": "code",
   "execution_count": 20,
   "metadata": {},
   "outputs": [],
   "source": [
    "def returns(book):\n",
    "    # 손익 계산\n",
    "    rtn = 1.0\n",
    "    book['return'] = 1\n",
    "    buy = 144000\n",
    "    sell = 0.0\n",
    "    book['return'] = book['return'].astype(float)\n",
    "    for i in book.index:\n",
    "        if book.loc[i, 'trade'] == 'buy' and book.shift(1).loc[i, 'trade'] == '':     # long 진입\n",
    "            buy = book.loc[i, 'price']\n",
    "            print('진입일 : ',i, 'long 진입가격 : ', buy)\n",
    "        elif book.loc[i, 'trade'] == '' and book.shift(1).loc[i, 'trade'] == 'buy':     # long 청산\n",
    "            sell = book.loc[i, 'price']\n",
    "            rtn = (sell - buy) / buy + 1 # 손익 계산\n",
    "            book.loc[i, 'return'] = rtn\n",
    "            print('청산일 : ',i, 'long 진입가격 : ', buy, ' |  long 청산가격 : ', \\\n",
    "                  sell, ' | return:', round(rtn, 4))\n",
    "    \n",
    "        if book.loc[i, 'trade'] == '':     # zero position\n",
    "            buy = 0.0\n",
    "            sell = 0.0\n",
    "    \n",
    "    acc_rtn = 1.0\n",
    "    for i in book.index:\n",
    "        rtn = book.loc[i, 'return']\n",
    "        acc_rtn = acc_rtn * rtn  # 누적 수익률 계산\n",
    "        book.loc[i, 'acc return'] = acc_rtn\n",
    "\n",
    "    print ('Accunulated return :', round(acc_rtn, 4))\n",
    "    return (round(acc_rtn, 4))"
   ]
  },
  {
   "cell_type": "code",
   "execution_count": 21,
   "metadata": {},
   "outputs": [
    {
     "name": "stdout",
     "output_type": "stream",
     "text": [
      "진입일 :  2006-01-20 long 진입가격 :  1324.78\n",
      "청산일 :  2006-03-31 long 진입가격 :  1324.78  |  long 청산가격 :  1359.6  | return: 1.0263\n",
      "진입일 :  2006-05-16 long 진입가격 :  1382.11\n",
      "청산일 :  2006-08-17 long 진입가격 :  1382.11  |  long 청산가격 :  1327.78  | return: 0.9607\n",
      "진입일 :  2006-10-09 long 진입가격 :  1319.4\n",
      "청산일 :  2006-11-09 long 진입가격 :  1319.4  |  long 청산가격 :  1399.44  | return: 1.0607\n",
      "진입일 :  2006-12-08 long 진입가격 :  1390.43\n",
      "청산일 :  2007-02-02 long 진입가격 :  1390.43  |  long 청산가격 :  1413.14  | return: 1.0163\n",
      "진입일 :  2007-03-05 long 진입가격 :  1376.15\n",
      "청산일 :  2007-04-04 long 진입가격 :  1376.15  |  long 청산가격 :  1483.41  | return: 1.0779\n",
      "진입일 :  2007-08-16 long 진입가격 :  1691.98\n",
      "청산일 :  2007-09-27 long 진입가격 :  1691.98  |  long 청산가격 :  1945.28  | return: 1.1497\n",
      "진입일 :  2007-11-21 long 진입가격 :  1806.99\n",
      "청산일 :  2008-04-03 long 진입가격 :  1806.99  |  long 청산가격 :  1763.63  | return: 0.976\n",
      "진입일 :  2008-06-10 long 진입가격 :  1774.38\n",
      "청산일 :  2008-12-10 long 진입가격 :  1774.38  |  long 청산가격 :  1145.87  | return: 0.6458\n",
      "진입일 :  2009-02-20 long 진입가격 :  1065.95\n",
      "청산일 :  2009-03-17 long 진입가격 :  1065.95  |  long 청산가격 :  1163.88  | return: 1.0919\n",
      "진입일 :  2009-10-29 long 진입가격 :  1585.85\n",
      "청산일 :  2010-03-08 long 진입가격 :  1585.85  |  long 청산가격 :  1660.04  | return: 1.0468\n",
      "진입일 :  2010-05-06 long 진입가격 :  1684.71\n",
      "청산일 :  2010-09-13 long 진입가격 :  1684.71  |  long 청산가격 :  1818.86  | return: 1.0796\n",
      "진입일 :  2011-02-09 long 진입가격 :  2045.58\n",
      "청산일 :  2011-03-25 long 진입가격 :  2045.58  |  long 청산가격 :  2054.04  | return: 1.0041\n",
      "진입일 :  2011-05-23 long 진입가격 :  2055.71\n",
      "청산일 :  2011-07-04 long 진입가격 :  2055.71  |  long 청산가격 :  2145.3  | return: 1.0436\n",
      "진입일 :  2011-08-03 long 진입가격 :  2066.26\n",
      "청산일 :  2012-01-19 long 진입가격 :  2066.26  |  long 청산가격 :  1914.97  | return: 0.9268\n",
      "진입일 :  2012-04-09 long 진입가격 :  1997.08\n",
      "청산일 :  2012-08-09 long 진입가격 :  1997.08  |  long 청산가격 :  1940.59  | return: 0.9717\n",
      "진입일 :  2012-09-05 long 진입가격 :  1874.03\n",
      "청산일 :  2012-09-14 long 진입가격 :  1874.03  |  long 청산가격 :  2007.58  | return: 1.0713\n",
      "진입일 :  2012-10-11 long 진입가격 :  1933.09\n",
      "청산일 :  2012-12-13 long 진입가격 :  1933.09  |  long 청산가격 :  2002.77  | return: 1.036\n",
      "진입일 :  2013-01-25 long 진입가격 :  1946.69\n",
      "청산일 :  2013-02-20 long 진입가격 :  1946.69  |  long 청산가격 :  2024.64  | return: 1.04\n",
      "진입일 :  2013-03-18 long 진입가격 :  1968.18\n",
      "청산일 :  2013-09-09 long 진입가격 :  1968.18  |  long 청산가격 :  1974.67  | return: 1.0033\n",
      "진입일 :  2013-11-07 long 진입가격 :  2004.04\n",
      "청산일 :  2014-07-28 long 진입가격 :  2004.04  |  long 청산가격 :  2048.81  | return: 1.0223\n",
      "진입일 :  2014-10-01 long 진입가격 :  1991.54\n",
      "청산일 :  2015-01-27 long 진입가격 :  1991.54  |  long 청산가격 :  1952.4  | return: 0.9803\n",
      "진입일 :  2015-06-03 long 진입가격 :  2063.16\n",
      "청산일 :  2015-10-08 long 진입가격 :  2063.16  |  long 청산가격 :  2019.53  | return: 0.9789\n",
      "진입일 :  2015-11-10 long 진입가격 :  1996.59\n",
      "청산일 :  2016-04-14 long 진입가격 :  1996.59  |  long 청산가격 :  2015.93  | return: 1.0097\n",
      "진입일 :  2016-06-24 long 진입가격 :  1925.24\n",
      "청산일 :  2016-08-09 long 진입가격 :  1925.24  |  long 청산가격 :  2043.78  | return: 1.0616\n",
      "진입일 :  2016-09-12 long 진입가격 :  1991.48\n",
      "청산일 :  2016-12-08 long 진입가격 :  1991.48  |  long 청산가격 :  2031.07  | return: 1.0199\n",
      "진입일 :  2017-04-11 long 진입가격 :  2123.85\n",
      "청산일 :  2017-04-25 long 진입가격 :  2123.85  |  long 청산가격 :  2196.85  | return: 1.0344\n",
      "진입일 :  2017-08-09 long 진입가격 :  2368.39\n",
      "청산일 :  2017-09-18 long 진입가격 :  2368.39  |  long 청산가격 :  2418.21  | return: 1.021\n",
      "진입일 :  2017-11-27 long 진입가격 :  2507.81\n",
      "청산일 :  2018-01-08 long 진입가격 :  2507.81  |  long 청산가격 :  2513.28  | return: 1.0022\n",
      "진입일 :  2018-02-06 long 진입가격 :  2453.31\n",
      "청산일 :  2018-03-12 long 진입가격 :  2453.31  |  long 청산가격 :  2484.12  | return: 1.0126\n",
      "진입일 :  2018-05-30 long 진입가격 :  2409.03\n",
      "청산일 :  2018-09-21 long 진입가격 :  2409.03  |  long 청산가격 :  2339.17  | return: 0.971\n",
      "진입일 :  2018-10-10 long 진입가격 :  2228.61\n",
      "청산일 :  2018-11-29 long 진입가격 :  2228.61  |  long 청산가격 :  2114.1  | return: 0.9486\n",
      "진입일 :  2019-01-03 long 진입가격 :  1993.7\n",
      "청산일 :  2019-04-03 long 진입가격 :  1993.7  |  long 청산가격 :  2203.27  | return: 1.1051\n",
      "진입일 :  2019-05-09 long 진입가격 :  2102.01\n",
      "청산일 :  2019-06-10 long 진입가격 :  2102.01  |  long 청산가격 :  2099.49  | return: 0.9988\n",
      "진입일 :  2019-07-08 long 진입가격 :  2064.17\n",
      "청산일 :  2019-09-04 long 진입가격 :  2064.17  |  long 청산가격 :  1988.53  | return: 0.9634\n",
      "진입일 :  2019-11-29 long 진입가격 :  2087.96\n",
      "청산일 :  2019-12-13 long 진입가격 :  2087.96  |  long 청산가격 :  2170.25  | return: 1.0394\n",
      "진입일 :  2020-02-24 long 진입가격 :  2079.04\n",
      "청산일 :  2020-05-19 long 진입가격 :  2079.04  |  long 청산가격 :  1980.61  | return: 0.9527\n",
      "진입일 :  2020-09-24 long 진입가격 :  2272.7\n",
      "청산일 :  2020-11-09 long 진입가격 :  2272.7  |  long 청산가격 :  2447.2  | return: 1.0768\n",
      "진입일 :  2021-02-24 long 진입가격 :  2994.98\n",
      "청산일 :  2021-04-02 long 진입가격 :  2994.98  |  long 청산가격 :  3112.8  | return: 1.0393\n",
      "진입일 :  2021-07-09 long 진입가격 :  3217.95\n",
      "청산일 :  2022-10-27 long 진입가격 :  3217.95  |  long 청산가격 :  2288.78  | return: 0.7113\n",
      "진입일 :  2022-12-29 long 진입가격 :  2236.4\n",
      "청산일 :  2023-04-11 long 진입가격 :  2236.4  |  long 청산가격 :  2547.86  | return: 1.1393\n",
      "진입일 :  2023-07-07 long 진입가격 :  2526.71\n",
      "청산일 :  2023-09-15 long 진입가격 :  2526.71  |  long 청산가격 :  2601.28  | return: 1.0295\n",
      "진입일 :  2023-09-22 long 진입가격 :  2508.13\n",
      "청산일 :  2023-12-15 long 진입가격 :  2508.13  |  long 청산가격 :  2563.56  | return: 1.0221\n",
      "진입일 :  2024-01-17 long 진입가격 :  2435.9\n",
      "청산일 :  2024-02-02 long 진입가격 :  2435.9  |  long 청산가격 :  2615.31  | return: 1.0737\n",
      "진입일 :  2024-04-16 long 진입가격 :  2609.63\n",
      "청산일 :  2024-06-19 long 진입가격 :  2609.63  |  long 청산가격 :  2797.33  | return: 1.0719\n",
      "진입일 :  2024-07-25 long 진입가격 :  2710.65\n",
      "Accunulated return : 1.3707\n",
      "1.3707\n"
     ]
    },
    {
     "data": {
      "text/plain": [
       "<Axes: xlabel='date'>"
      ]
     },
     "execution_count": 21,
     "metadata": {},
     "output_type": "execute_result"
    },
    {
     "data": {
      "image/png": "[encoded data removed]",
      "text/plain": [
       "<Figure size 640x480 with 1 Axes>"
      ]
     },
     "metadata": {},
     "output_type": "display_data"
    }
   ],
   "source": [
    "print(returns(book))\n",
    "book['acc return'].plot()"
   ]
  },
  {
   "cell_type": "code",
   "execution_count": 22,
   "metadata": {},
   "outputs": [
    {
     "data": {
      "text/html": [
       "<div>\n",
       "<style scoped>\n",
       "    .dataframe tbody tr th:only-of-type {\n",
       "        vertical-align: middle;\n",
       "    }\n",
       "\n",
       "    .dataframe tbody tr th {\n",
       "        vertical-align: top;\n",
       "    }\n",
       "\n",
       "    .dataframe thead th {\n",
       "        text-align: right;\n",
       "    }\n",
       "</style>\n",
       "<table border=\"1\" class=\"dataframe\">\n",
       "  <thead>\n",
       "    <tr style=\"text-align: right;\">\n",
       "      <th></th>\n",
       "      <th>price</th>\n",
       "      <th>trade</th>\n",
       "      <th>return</th>\n",
       "      <th>acc return</th>\n",
       "    </tr>\n",
       "    <tr>\n",
       "      <th>date</th>\n",
       "      <th></th>\n",
       "      <th></th>\n",
       "      <th></th>\n",
       "      <th></th>\n",
       "    </tr>\n",
       "  </thead>\n",
       "  <tbody>\n",
       "    <tr>\n",
       "      <th>2024-09-19</th>\n",
       "      <td>2580.80</td>\n",
       "      <td>buy</td>\n",
       "      <td>1.0</td>\n",
       "      <td>1.370686</td>\n",
       "    </tr>\n",
       "    <tr>\n",
       "      <th>2024-09-20</th>\n",
       "      <td>2593.37</td>\n",
       "      <td>buy</td>\n",
       "      <td>1.0</td>\n",
       "      <td>1.370686</td>\n",
       "    </tr>\n",
       "    <tr>\n",
       "      <th>2024-09-23</th>\n",
       "      <td>2602.01</td>\n",
       "      <td>buy</td>\n",
       "      <td>1.0</td>\n",
       "      <td>1.370686</td>\n",
       "    </tr>\n",
       "    <tr>\n",
       "      <th>2024-09-24</th>\n",
       "      <td>2631.68</td>\n",
       "      <td>buy</td>\n",
       "      <td>1.0</td>\n",
       "      <td>1.370686</td>\n",
       "    </tr>\n",
       "    <tr>\n",
       "      <th>2024-09-25</th>\n",
       "      <td>2630.53</td>\n",
       "      <td>buy</td>\n",
       "      <td>1.0</td>\n",
       "      <td>1.370686</td>\n",
       "    </tr>\n",
       "  </tbody>\n",
       "</table>\n",
       "</div>"
      ],
      "text/plain": [
       "              price trade  return  acc return\n",
       "date                                         \n",
       "2024-09-19  2580.80   buy     1.0    1.370686\n",
       "2024-09-20  2593.37   buy     1.0    1.370686\n",
       "2024-09-23  2602.01   buy     1.0    1.370686\n",
       "2024-09-24  2631.68   buy     1.0    1.370686\n",
       "2024-09-25  2630.53   buy     1.0    1.370686"
      ]
     },
     "execution_count": 22,
     "metadata": {},
     "output_type": "execute_result"
    }
   ],
   "source": [
    "book.tail()"
   ]
  },
  {
   "cell_type": "code",
   "execution_count": null,
   "metadata": {},
   "outputs": [],
   "source": []
  },
  {
   "cell_type": "code",
   "execution_count": null,
   "metadata": {},
   "outputs": [],
   "source": []
  }
 ],
 "metadata": {
  "kernelspec": {
   "display_name": "Python 3 (ipykernel)",
   "language": "python",
   "name": "python3"
  },
  "language_info": {
   "codemirror_mode": {
    "name": "ipython",
    "version": 3
   },
   "file_extension": ".py",
   "mimetype": "text/x-python",
   "name": "python",
   "nbconvert_exporter": "python",
   "pygments_lexer": "ipython3",
   "version": "3.11.7"
  }
 },
 "nbformat": 4,
 "nbformat_minor": 4
}
